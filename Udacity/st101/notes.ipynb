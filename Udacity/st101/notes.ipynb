{
 "cells": [
  {
   "cell_type": "markdown",
   "metadata": {},
   "source": [
    "## Empirical mean"
   ]
  },
  {
   "cell_type": "markdown",
   "metadata": {},
   "source": [
    "$$\\mu=\\frac{1}{N}\\cdot\\sum_{i=1}^NX_i$$"
   ]
  },
  {
   "cell_type": "code",
   "execution_count": 5,
   "metadata": {},
   "outputs": [],
   "source": [
    "def mean(numbers):\n",
    "    return sum(numbers) / len(numbers)"
   ]
  },
  {
   "cell_type": "markdown",
   "metadata": {},
   "source": [
    "### Properties"
   ]
  },
  {
   "cell_type": "markdown",
   "metadata": {},
   "source": [
    "$X$ and $Y$ assumed to be random and independent."
   ]
  },
  {
   "cell_type": "markdown",
   "metadata": {},
   "source": [
    "$$Mean(X+Y)=Mean(X)+Mean(Y)$$\n",
    "$$Mean(X\\times Y)=Mean(X)\\times Mean(Y)$$"
   ]
  },
  {
   "cell_type": "markdown",
   "metadata": {},
   "source": [
    "## Variance"
   ]
  },
  {
   "cell_type": "markdown",
   "metadata": {},
   "source": [
    "$$\\sigma^2=Var(X)$$\n",
    "$$\\sigma^2=\\frac{1}{N}\\sum_{i=1}^N(x_i-\\mu)^2$$\n",
    "$$\\sigma ^2=\\frac{\\Sigma X_i^2}{N}-\\frac{(\\Sigma X_i)^2}{N^2}$$"
   ]
  },
  {
   "cell_type": "code",
   "execution_count": 1,
   "metadata": {},
   "outputs": [],
   "source": [
    "def var(numbers):\n",
    "    l = len(numbers)\n",
    "    return sum(x**2 for x in numbers)/l - sum(numbers)**2/l**2"
   ]
  },
  {
   "cell_type": "markdown",
   "metadata": {},
   "source": [
    "## Standart deviation"
   ]
  },
  {
   "cell_type": "markdown",
   "metadata": {},
   "source": [
    "\n",
    "\n",
    "$$Var(X+Y)=Var(X)+Var(Y)+2\\times Cov(X,Y)$$"
   ]
  },
  {
   "cell_type": "code",
   "execution_count": null,
   "metadata": {},
   "outputs": [],
   "source": [
    ""
   ]
  },
  {
   "cell_type": "code",
   "execution_count": null,
   "metadata": {},
   "outputs": [],
   "source": [
    ""
   ]
  },
  {
   "cell_type": "code",
   "execution_count": null,
   "metadata": {},
   "outputs": [],
   "source": [
    ""
   ]
  },
  {
   "cell_type": "code",
   "execution_count": null,
   "metadata": {},
   "outputs": [],
   "source": [
    ""
   ]
  },
  {
   "cell_type": "markdown",
   "metadata": {},
   "source": [
    "\n",
    "\n",
    "\n",
    "\n",
    "Standard Deviation\n",
    "\n",
    "\n",
    "\n",
    "$\\sigma=\\sqrt{Var(X)}$σ=√Var(X)\n",
    "\n",
    "$\\sigma=\\sqrt{\\frac{1}{N}\\sum_{i=1}^N(X_i-\\mu)^2}$σ=√\n",
    "1\n",
    "N ∑i=1N(Xi−μ)2\n",
    "\n",
    "Properties (for independent random variables $X$X and $Y$Y):\n",
    "\n",
    "$Cov(X,Y)=\\frac{1}{N}\\sum\\quad[(X-\\overline{X})\\times(Y-\\overline{Y})]$Cov(X,Y)=\n",
    "1\n",
    "N ∑ [(X−X)×(Y−Y)]\n",
    "\n",
    "$Var(X+Y)=Var(X)+Var(Y)+2\\times Cov(X,Y)$Var(X+Y)=Var(X)+Var(Y)+2×Cov(X,Y)\n",
    "\n",
    "$Var(\\alpha X)=\\alpha^2Var(X)$Var(αX)=α2Var(X)\n",
    "\n",
    "Note:\n",
    "\n",
    "$Cov(X,Y)=0$Cov(X,Y)=0 for independent $X$X and $Y$Y variables\n",
    "\n",
    "\n",
    "Bernoulli Distribution\n",
    "\n",
    "\n",
    "\n",
    "Bernoulli distribution (a special case of binomial distribution) is a discrete probability distribution with two possible outcomes $$ such that $X_i=0$Xi=0 occurs with probability $p$p and $X_i=1$Xi=1 with probability $q=(1-p)$q=(1−p). An example given in the course is a coin flip.\n",
    "\n",
    "$\\mu=p$μ=p $\\sigma^2=p(1-p)$σ2=p(1−p)\n",
    "\n",
    "\n",
    "\n",
    "Binomial Coefficient\n",
    "\n",
    "\n",
    "\n",
    "$\\binom{n}{k}=\\frac{n!}{k!(n-k)!}$(\n",
    "n\n",
    "k\n",
    ")=\n",
    "n!\n",
    "k!(n−k)! \n",
    "\n",
    "\n",
    "\n",
    "Binomial Probability Distribution\n",
    "\n",
    "\n",
    "\n",
    "$P(n,k,p)=\\frac{n!}{k!(n-k)!}p^k(1-p)^{(n-k)}$P(n,k,p)=\n",
    "n!\n",
    "k!(n−k)! pk(1−p)(n−k)\n",
    "\n",
    "\n",
    "\n",
    "Standard Normal Distribution\n",
    "\n",
    "\n",
    "\n",
    "$N(x;\\mu,\\sigma^2)=\\frac{1}{\\sqrt{2\\cdot\\pi\\cdot\\sigma^2}}\\cdot e^{[-\\frac{1}{2}\\cdot\\frac{(x-\\mu)^2}{\\sigma^2}]}$N(x;μ,σ2)=\n",
    "1\n",
    "√2·π·σ2 ·e[−\n",
    "1\n",
    "2 ·\n",
    "(x−μ)2\n",
    "σ2 ]\n",
    "\n",
    "\n",
    "\n",
    "Confidence Interval\n",
    "\n",
    "\n",
    "\n",
    "$CI=1.96\\sqrt{\\frac{p(1-p)}{N}}$CI=1.96√\n",
    "p(1−p)\n",
    "N \n",
    "\n",
    "General Form:\n",
    "\n",
    "Size of CI = $a\\sqrt{\\frac{\\sigma^2}{N}}$a√\n",
    "σ2\n",
    "N \n",
    "\n",
    "$\\frac{1}{N}\\sum X_i\\pm a\\sqrt{\\frac{\\sigma^2}{N}}$\n",
    "1\n",
    "N ∑Xi±a√\n",
    "σ2\n",
    "N \n",
    "\n",
    "Note:\n",
    "\n",
    "$a=1.96$a=1.96 for $N\\ge30$N≥30\n",
    "$a$a is the t-value computed for $(N-1)$(N−1) degrees of freedom and confidence level $p$p.\n",
    "\n",
    "\n",
    "Linear Regression\n",
    "\n",
    "\n",
    "\n",
    "$y=bx+a$y=bx+a\n",
    "\n",
    "$b=\\frac{\\sum_{i=1}^n[(x_i-\\overline{x})(y_i-\\overline{y})]}{\\sum_{i=1}^n(x_i-\\overline{x})^2}$b=\n",
    "∑i=1n[(xi−x)(yi−y)]\n",
    "∑i=1n(xi−x)2 \n",
    "\n",
    "$a=\\overline{y}-b\\overline{x}$a=y−bx\n",
    "\n",
    "$r=\\frac{\\sum_i[(x_i-\\overline{x})(y_i-\\overline{y}]}{\\sqrt{\\sum_i(x_i-\\overline{x})^2\\sum_i(y_i-\\overline{y})^2}}$r=\n",
    "∑i[(xi−x)(yi−y]\n",
    "√∑i(xi−x)2∑i(yi−y)2 \n",
    "\n",
    "$Z_x=\\frac{x_i-\\overline{x}}{\\sigma_x}$Zx=\n",
    "xi−x\n",
    "σx \n",
    "\n",
    "Note:\n",
    "\n",
    "$r$r is the correlation coefficient.\n",
    "$Z_x$Zx is the standard score.\n",
    "Probability Rules\n",
    "\n",
    "\n",
    "Joint Occurrence\n",
    "\n",
    "\n",
    "\n",
    "$P(B\\cdot C\\mid A)=P(B\\mid A)\\times P(C\\mid A\\cdot B)$P(B·C∣A)=P(B∣A)×P(C∣A·B)\n",
    "\n",
    "Note:\n",
    "\n",
    "$P(A\\cdot B\\cdot C)=P(B\\cdot C\\mid A)\\times P(A)$P(A·B·C)=P(B·C∣A)×P(A)\n",
    "\n",
    "$P(A\\cdot B\\cdot C)=P(C\\mid A\\cdot B)\\times P(A\\cdot B)$P(A·B·C)=P(C∣A·B)×P(A·B)\n",
    "\n",
    "$P(A\\cdot B\\cdot C)=P(C\\mid A\\cdot B)\\times P(B\\mid A)\\times P(A)$P(A·B·C)=P(C∣A·B)×P(B∣A)×P(A)\n",
    "\n",
    "$P(B\\cdot C\\mid A)\\times P(A)=P(C\\mid A\\cdot B)\\times P(B\\mid A)\\times P(A)$P(B·C∣A)×P(A)=P(C∣A·B)×P(B∣A)×P(A)\n",
    "\n",
    "$P(B\\cdot C\\mid A)=P(B\\mid A)\\times P(C\\mid A\\cdot B)$P(B·C∣A)=P(B∣A)×P(C∣A·B)\n",
    "\n",
    "\n",
    "\n",
    "Independent Joint Probabilities\n",
    "\n",
    "\n",
    "\n",
    "$P(B\\cdot C\\mid A)=P(B\\mid A)\\times P(C\\mid A)$P(B·C∣A)=P(B∣A)×P(C∣A)\n",
    "\n",
    "\n",
    "\n",
    "Total Probability\n",
    "\n",
    "\n",
    "\n",
    "$P(A)=P(A\\mid B)\\times P(B)+P(A\\mid\\neg B)\\times P(\\neg B)$P(A)=P(A∣B)×P(B)+P(A∣¬B)×P(¬B)\n",
    "\n",
    "$P(C\\mid A)=P(C\\mid A\\cdot B)\\times P(B\\mid A)+P(C\\mid A\\cdot\\neg B)\\times P(\\neg B\\mid A)$P(C∣A)=P(C∣A·B)×P(B∣A)+P(C∣A·¬B)×P(¬B∣A)\n",
    "\n",
    "\n",
    "\n",
    "Bayes' Rule\n",
    "\n",
    "\n",
    "\n",
    "$P(A\\mid B)=\\frac{P(B\\mid A)\\cdot P(A)}{P(B)}$P(A∣B)=\n",
    "P(B∣A)·P(A)\n",
    "P(B) \n",
    "\n",
    "\n",
    "\n",
    "Binomial Coefficient\n",
    "\n",
    "\n",
    "\n",
    "$\\binom{n}{k}=\\frac{n!}{k!(n-k)!}$(\n",
    "n\n",
    "k\n",
    ")=\n",
    "n!\n",
    "k!(n−k)! \n",
    "\n",
    "\n",
    "\n",
    "Binomial Probability Distribution\n",
    "\n",
    "\n",
    "\n",
    "$P(n,k,p)=\\frac{n!}{k!(n-k)!}p^k(1-p)^{(n-k)}$P(n,k,p)=\n",
    "n!\n",
    "k!(n−k)! pk(1−p)(n−k)\n",
    "\n",
    "This page was last edited on 2015/06/16 00:24:22."
   ]
  },
  {
   "cell_type": "code",
   "execution_count": 3,
   "metadata": {},
   "outputs": [],
   "source": [
    ""
   ]
  },
  {
   "cell_type": "code",
   "execution_count": null,
   "metadata": {},
   "outputs": [],
   "source": [
    ""
   ]
  },
  {
   "cell_type": "code",
   "execution_count": null,
   "metadata": {},
   "outputs": [],
   "source": [
    ""
   ]
  },
  {
   "cell_type": "code",
   "execution_count": null,
   "metadata": {},
   "outputs": [],
   "source": [
    ""
   ]
  }
 ],
 "metadata": {
  "kernelspec": {
   "display_name": "Python 3",
   "language": "python",
   "name": "python3"
  },
  "language_info": {
   "codemirror_mode": {
    "name": "ipython",
    "version": 3.0
   },
   "file_extension": ".py",
   "mimetype": "text/x-python",
   "name": "python",
   "nbconvert_exporter": "python",
   "pygments_lexer": "ipython3",
   "version": "3.5.1"
  }
 },
 "nbformat": 4,
 "nbformat_minor": 0
}